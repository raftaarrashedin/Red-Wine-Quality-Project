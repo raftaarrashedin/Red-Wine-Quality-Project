{
 "cells": [
  {
   "cell_type": "code",
   "execution_count": 5,
   "id": "8380ebab-2d78-4b19-adb3-8128b04bddd3",
   "metadata": {},
   "outputs": [
    {
     "name": "stdout",
     "output_type": "stream",
     "text": [
      "Requirement already satisfied: mlflow in c:\\users\\sgrams\\miniconda3\\envs\\wine_quality\\lib\\site-packages (2.8.0)\n",
      "Requirement already satisfied: click<9,>=7.0 in c:\\users\\sgrams\\miniconda3\\envs\\wine_quality\\lib\\site-packages (from mlflow) (8.1.7)\n",
      "Requirement already satisfied: cloudpickle<3 in c:\\users\\sgrams\\miniconda3\\envs\\wine_quality\\lib\\site-packages (from mlflow) (2.2.1)\n",
      "Requirement already satisfied: databricks-cli<1,>=0.8.7 in c:\\users\\sgrams\\miniconda3\\envs\\wine_quality\\lib\\site-packages (from mlflow) (0.18.0)\n",
      "Requirement already satisfied: entrypoints<1 in c:\\users\\sgrams\\miniconda3\\envs\\wine_quality\\lib\\site-packages (from mlflow) (0.4)\n",
      "Requirement already satisfied: gitpython<4,>=2.1.0 in c:\\users\\sgrams\\miniconda3\\envs\\wine_quality\\lib\\site-packages (from mlflow) (3.1.40)\n",
      "Requirement already satisfied: pyyaml<7,>=5.1 in c:\\users\\sgrams\\miniconda3\\envs\\wine_quality\\lib\\site-packages (from mlflow) (6.0.1)\n",
      "Requirement already satisfied: protobuf<5,>=3.12.0 in c:\\users\\sgrams\\miniconda3\\envs\\wine_quality\\lib\\site-packages (from mlflow) (4.24.4)\n",
      "Requirement already satisfied: pytz<2024 in c:\\users\\sgrams\\miniconda3\\envs\\wine_quality\\lib\\site-packages (from mlflow) (2023.3.post1)\n",
      "Requirement already satisfied: requests<3,>=2.17.3 in c:\\users\\sgrams\\miniconda3\\envs\\wine_quality\\lib\\site-packages (from mlflow) (2.31.0)\n",
      "Requirement already satisfied: packaging<24 in c:\\users\\sgrams\\miniconda3\\envs\\wine_quality\\lib\\site-packages (from mlflow) (23.2)\n",
      "Requirement already satisfied: importlib-metadata!=4.7.0,<7,>=3.7.0 in c:\\users\\sgrams\\miniconda3\\envs\\wine_quality\\lib\\site-packages (from mlflow) (6.8.0)\n",
      "Requirement already satisfied: sqlparse<1,>=0.4.0 in c:\\users\\sgrams\\miniconda3\\envs\\wine_quality\\lib\\site-packages (from mlflow) (0.4.4)\n",
      "Requirement already satisfied: alembic!=1.10.0,<2 in c:\\users\\sgrams\\miniconda3\\envs\\wine_quality\\lib\\site-packages (from mlflow) (1.12.1)\n",
      "Requirement already satisfied: docker<7,>=4.0.0 in c:\\users\\sgrams\\miniconda3\\envs\\wine_quality\\lib\\site-packages (from mlflow) (6.1.3)\n",
      "Requirement already satisfied: Flask<4 in c:\\users\\sgrams\\miniconda3\\envs\\wine_quality\\lib\\site-packages (from mlflow) (3.0.0)\n",
      "Requirement already satisfied: numpy<2 in c:\\users\\sgrams\\miniconda3\\envs\\wine_quality\\lib\\site-packages (from mlflow) (1.26.1)\n",
      "Requirement already satisfied: scipy<2 in c:\\users\\sgrams\\miniconda3\\envs\\wine_quality\\lib\\site-packages (from mlflow) (1.11.3)\n",
      "Requirement already satisfied: pandas<3 in c:\\users\\sgrams\\miniconda3\\envs\\wine_quality\\lib\\site-packages (from mlflow) (2.1.2)\n",
      "Requirement already satisfied: querystring-parser<2 in c:\\users\\sgrams\\miniconda3\\envs\\wine_quality\\lib\\site-packages (from mlflow) (1.2.4)\n",
      "Requirement already satisfied: sqlalchemy<3,>=1.4.0 in c:\\users\\sgrams\\miniconda3\\envs\\wine_quality\\lib\\site-packages (from mlflow) (2.0.23)\n",
      "Requirement already satisfied: scikit-learn<2 in c:\\users\\sgrams\\miniconda3\\envs\\wine_quality\\lib\\site-packages (from mlflow) (1.3.2)\n",
      "Requirement already satisfied: pyarrow<14,>=4.0.0 in c:\\users\\sgrams\\miniconda3\\envs\\wine_quality\\lib\\site-packages (from mlflow) (13.0.0)\n",
      "Requirement already satisfied: markdown<4,>=3.3 in c:\\users\\sgrams\\miniconda3\\envs\\wine_quality\\lib\\site-packages (from mlflow) (3.5.1)\n",
      "Requirement already satisfied: matplotlib<4 in c:\\users\\sgrams\\miniconda3\\envs\\wine_quality\\lib\\site-packages (from mlflow) (3.8.1)\n",
      "Requirement already satisfied: psutil<6 in c:\\users\\sgrams\\miniconda3\\envs\\wine_quality\\lib\\site-packages (from mlflow) (5.9.6)\n",
      "Requirement already satisfied: waitress<3 in c:\\users\\sgrams\\miniconda3\\envs\\wine_quality\\lib\\site-packages (from mlflow) (2.1.2)\n",
      "Requirement already satisfied: Jinja2<4,>=3.0 in c:\\users\\sgrams\\miniconda3\\envs\\wine_quality\\lib\\site-packages (from mlflow) (3.1.2)\n",
      "Requirement already satisfied: Mako in c:\\users\\sgrams\\miniconda3\\envs\\wine_quality\\lib\\site-packages (from alembic!=1.10.0,<2->mlflow) (1.3.0)\n",
      "Requirement already satisfied: typing-extensions>=4 in c:\\users\\sgrams\\miniconda3\\envs\\wine_quality\\lib\\site-packages (from alembic!=1.10.0,<2->mlflow) (4.8.0)\n",
      "Requirement already satisfied: colorama in c:\\users\\sgrams\\miniconda3\\envs\\wine_quality\\lib\\site-packages (from click<9,>=7.0->mlflow) (0.4.6)\n",
      "Requirement already satisfied: pyjwt>=1.7.0 in c:\\users\\sgrams\\miniconda3\\envs\\wine_quality\\lib\\site-packages (from databricks-cli<1,>=0.8.7->mlflow) (2.8.0)\n",
      "Requirement already satisfied: oauthlib>=3.1.0 in c:\\users\\sgrams\\miniconda3\\envs\\wine_quality\\lib\\site-packages (from databricks-cli<1,>=0.8.7->mlflow) (3.2.2)\n",
      "Requirement already satisfied: tabulate>=0.7.7 in c:\\users\\sgrams\\miniconda3\\envs\\wine_quality\\lib\\site-packages (from databricks-cli<1,>=0.8.7->mlflow) (0.9.0)\n",
      "Requirement already satisfied: six>=1.10.0 in c:\\users\\sgrams\\miniconda3\\envs\\wine_quality\\lib\\site-packages (from databricks-cli<1,>=0.8.7->mlflow) (1.16.0)\n",
      "Requirement already satisfied: urllib3<3,>=1.26.7 in c:\\users\\sgrams\\miniconda3\\envs\\wine_quality\\lib\\site-packages (from databricks-cli<1,>=0.8.7->mlflow) (2.0.7)\n",
      "Requirement already satisfied: websocket-client>=0.32.0 in c:\\users\\sgrams\\miniconda3\\envs\\wine_quality\\lib\\site-packages (from docker<7,>=4.0.0->mlflow) (1.6.4)\n",
      "Requirement already satisfied: pywin32>=304 in c:\\users\\sgrams\\miniconda3\\envs\\wine_quality\\lib\\site-packages (from docker<7,>=4.0.0->mlflow) (306)\n",
      "Requirement already satisfied: Werkzeug>=3.0.0 in c:\\users\\sgrams\\miniconda3\\envs\\wine_quality\\lib\\site-packages (from Flask<4->mlflow) (3.0.1)\n",
      "Requirement already satisfied: itsdangerous>=2.1.2 in c:\\users\\sgrams\\miniconda3\\envs\\wine_quality\\lib\\site-packages (from Flask<4->mlflow) (2.1.2)\n",
      "Requirement already satisfied: blinker>=1.6.2 in c:\\users\\sgrams\\miniconda3\\envs\\wine_quality\\lib\\site-packages (from Flask<4->mlflow) (1.7.0)\n",
      "Requirement already satisfied: gitdb<5,>=4.0.1 in c:\\users\\sgrams\\miniconda3\\envs\\wine_quality\\lib\\site-packages (from gitpython<4,>=2.1.0->mlflow) (4.0.11)\n",
      "Requirement already satisfied: zipp>=0.5 in c:\\users\\sgrams\\miniconda3\\envs\\wine_quality\\lib\\site-packages (from importlib-metadata!=4.7.0,<7,>=3.7.0->mlflow) (3.17.0)\n",
      "Requirement already satisfied: MarkupSafe>=2.0 in c:\\users\\sgrams\\miniconda3\\envs\\wine_quality\\lib\\site-packages (from Jinja2<4,>=3.0->mlflow) (2.1.3)\n",
      "Requirement already satisfied: contourpy>=1.0.1 in c:\\users\\sgrams\\miniconda3\\envs\\wine_quality\\lib\\site-packages (from matplotlib<4->mlflow) (1.2.0)\n",
      "Requirement already satisfied: cycler>=0.10 in c:\\users\\sgrams\\miniconda3\\envs\\wine_quality\\lib\\site-packages (from matplotlib<4->mlflow) (0.12.1)\n",
      "Requirement already satisfied: fonttools>=4.22.0 in c:\\users\\sgrams\\miniconda3\\envs\\wine_quality\\lib\\site-packages (from matplotlib<4->mlflow) (4.44.0)\n",
      "Requirement already satisfied: kiwisolver>=1.3.1 in c:\\users\\sgrams\\miniconda3\\envs\\wine_quality\\lib\\site-packages (from matplotlib<4->mlflow) (1.4.5)\n",
      "Requirement already satisfied: pillow>=8 in c:\\users\\sgrams\\miniconda3\\envs\\wine_quality\\lib\\site-packages (from matplotlib<4->mlflow) (10.1.0)\n",
      "Requirement already satisfied: pyparsing>=2.3.1 in c:\\users\\sgrams\\miniconda3\\envs\\wine_quality\\lib\\site-packages (from matplotlib<4->mlflow) (3.1.1)\n",
      "Requirement already satisfied: python-dateutil>=2.7 in c:\\users\\sgrams\\miniconda3\\envs\\wine_quality\\lib\\site-packages (from matplotlib<4->mlflow) (2.8.2)\n",
      "Requirement already satisfied: importlib-resources>=3.2.0 in c:\\users\\sgrams\\miniconda3\\envs\\wine_quality\\lib\\site-packages (from matplotlib<4->mlflow) (6.1.1)\n",
      "Requirement already satisfied: tzdata>=2022.1 in c:\\users\\sgrams\\miniconda3\\envs\\wine_quality\\lib\\site-packages (from pandas<3->mlflow) (2023.3)\n",
      "Requirement already satisfied: charset-normalizer<4,>=2 in c:\\users\\sgrams\\miniconda3\\envs\\wine_quality\\lib\\site-packages (from requests<3,>=2.17.3->mlflow) (3.3.2)\n",
      "Requirement already satisfied: idna<4,>=2.5 in c:\\users\\sgrams\\miniconda3\\envs\\wine_quality\\lib\\site-packages (from requests<3,>=2.17.3->mlflow) (3.4)\n",
      "Requirement already satisfied: certifi>=2017.4.17 in c:\\users\\sgrams\\miniconda3\\envs\\wine_quality\\lib\\site-packages (from requests<3,>=2.17.3->mlflow) (2023.7.22)\n",
      "Requirement already satisfied: joblib>=1.1.1 in c:\\users\\sgrams\\miniconda3\\envs\\wine_quality\\lib\\site-packages (from scikit-learn<2->mlflow) (1.3.2)\n",
      "Requirement already satisfied: threadpoolctl>=2.0.0 in c:\\users\\sgrams\\miniconda3\\envs\\wine_quality\\lib\\site-packages (from scikit-learn<2->mlflow) (3.2.0)\n",
      "Requirement already satisfied: greenlet!=0.4.17 in c:\\users\\sgrams\\miniconda3\\envs\\wine_quality\\lib\\site-packages (from sqlalchemy<3,>=1.4.0->mlflow) (3.0.1)\n",
      "Requirement already satisfied: smmap<6,>=3.0.1 in c:\\users\\sgrams\\miniconda3\\envs\\wine_quality\\lib\\site-packages (from gitdb<5,>=4.0.1->gitpython<4,>=2.1.0->mlflow) (5.0.1)\n",
      "Note: you may need to restart the kernel to use updated packages.\n"
     ]
    }
   ],
   "source": [
    "pip install mlflow"
   ]
  },
  {
   "cell_type": "code",
   "execution_count": 5,
   "id": "fa6a813e-3403-42a8-8866-c29977a51755",
   "metadata": {},
   "outputs": [
    {
     "ename": "TabError",
     "evalue": "inconsistent use of tabs and spaces in indentation (1828303083.py, line 32)",
     "output_type": "error",
     "traceback": [
      "\u001b[1;36m  Cell \u001b[1;32mIn[5], line 32\u001b[1;36m\u001b[0m\n\u001b[1;33m    mv = dict(mv)\u001b[0m\n\u001b[1;37m    ^\u001b[0m\n\u001b[1;31mTabError\u001b[0m\u001b[1;31m:\u001b[0m inconsistent use of tabs and spaces in indentation\n"
     ]
    }
   ],
   "source": [
    "from src.get_data import read_params\n",
    "import argparse\n",
    "import mlflow\n",
    "from mlflow.tracking import MLflowClient\n",
    "from pprint import pprint\n",
    "import joblib\n",
    "import os\n",
    "\n",
    "os.chdir('C:\\\\Users\\\\Sgrams\\\\Desktop\\\\Wine Quality Project')\n",
    "\n",
    "def log_production_model(config_path) :\n",
    "\n",
    "\tconfig = read_params(config_path)\n",
    "\n",
    "\tmlflow_config = config[\"mlflow_config\"]\n",
    "\n",
    "\tmodel_name = mlflow_config[\"registered_model_name\"]\n",
    "\n",
    "\tremote_server_uri = mlflow_config[\"remote_server_uri\"]\n",
    "\n",
    "\tmlflow.set_registry_uri(remote_server_uri)\n",
    "\n",
    "\truns = mlflow.search_runs(experiment_ids = 1)\n",
    "\n",
    "\tlowest = runs[\"metrics.mae\"].sort_values(ascending=True)[0]\n",
    "\n",
    "\tlowest_run_id = runs[runs[\"metrics.mae\"] == lowest][\"run_id\"][0]\n",
    "\n",
    "\n",
    "\tclient = MLflowClient()\n",
    "\tfor mv in client.search_model_versions(f\"name='{model_name}'\") :\n",
    "        mv = dict(mv)\n",
    "        pprint(mv, indent=4)\n",
    "\t\t# if mv[\"run_id\"] == lowest_run_id :\n",
    "\t\t# \tcurrent_version = mv[\"version\"]\n",
    "\t\t# \tlogged_model = mv[\"source\"]\n",
    "\t\t# \tpprint(mv,indent=4)\n",
    "\t\t# \tclient.transition_model_version_stage(\n",
    "\t\t# \t\tname = model_name,\n",
    "\t\t# \t\tversion = current_version,\n",
    "\t\t# \t\tstage = \"Production\"\n",
    "\t\t# \t)\n",
    "\t\t# else :\n",
    "\t\t# \tcurrent_version = mv[\"version\"]\n",
    "\t\t# \tpprint(mv, indent=4)\n",
    "\t\t# \tclient.transition_model_version_stage(\n",
    "\t\t# \t\tname = model_name,\n",
    "\t\t# \t\tversion = current_version,\n",
    "\t\t# \t\tstage = \"Staging\"\n",
    "\t\t# \t)\n",
    "\n",
    "log_production_model(\"../params.yaml\")"
   ]
  },
  {
   "cell_type": "code",
   "execution_count": null,
   "id": "c8a3ab12-8a55-4ad6-bc78-20407bba27e6",
   "metadata": {},
   "outputs": [],
   "source": []
  },
  {
   "cell_type": "code",
   "execution_count": 1,
   "id": "77fae0ed-07fe-41cf-9b8c-8da992166c27",
   "metadata": {},
   "outputs": [
    {
     "data": {
      "text/plain": [
       "'C:\\\\Users\\\\Sgrams\\\\Desktop\\\\Wine Quality Project\\\\notebooks'"
      ]
     },
     "execution_count": 1,
     "metadata": {},
     "output_type": "execute_result"
    }
   ],
   "source": [
    "pwd"
   ]
  },
  {
   "cell_type": "code",
   "execution_count": null,
   "id": "3b684300-b183-4006-9cf0-99418dd20c25",
   "metadata": {},
   "outputs": [],
   "source": []
  }
 ],
 "metadata": {
  "kernelspec": {
   "display_name": "Python 3 (ipykernel)",
   "language": "python",
   "name": "python3"
  },
  "language_info": {
   "codemirror_mode": {
    "name": "ipython",
    "version": 3
   },
   "file_extension": ".py",
   "mimetype": "text/x-python",
   "name": "python",
   "nbconvert_exporter": "python",
   "pygments_lexer": "ipython3",
   "version": "3.9.18"
  }
 },
 "nbformat": 4,
 "nbformat_minor": 5
}
